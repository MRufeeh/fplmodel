{
 "cells": [
  {
   "cell_type": "code",
   "execution_count": null,
   "id": "55b7e847-e0bf-448e-a0e5-1ea31ac4e8a6",
   "metadata": {},
   "outputs": [],
   "source": [
    "### F P L   P R E D I C T I V E   M O D E L"
   ]
  },
  {
   "cell_type": "code",
   "execution_count": null,
   "id": "99a51200-d6d1-4b89-8eee-12928324bbee",
   "metadata": {},
   "outputs": [],
   "source": [
    "import streamlit as st\n",
    "import pandas as pd\n",
    "import numpy as np\n",
    "import matplotlib.pyplot as plt\n",
    "import seaborn as sns\n",
    "from sklearn.model_selection import train_test_split\n",
    "from sklearn.linear_model import LinearRegression\n",
    "from sklearn.metrics import mean_squared_error, r2_score\n",
    "import warnings\n",
    "import requests"
   ]
  },
  {
   "cell_type": "code",
   "execution_count": 2,
   "id": "0ac23f1c-9dfb-4c89-b77e-8617c8610fab",
   "metadata": {},
   "outputs": [
    {
     "ename": "NameError",
     "evalue": "name 'requests' is not defined",
     "output_type": "error",
     "traceback": [
      "\u001b[1;31m---------------------------------------------------------------------------\u001b[0m",
      "\u001b[1;31mNameError\u001b[0m                                 Traceback (most recent call last)",
      "Cell \u001b[1;32mIn[2], line 3\u001b[0m\n\u001b[0;32m      1\u001b[0m \u001b[38;5;66;03m# Fetch FPL data\u001b[39;00m\n\u001b[0;32m      2\u001b[0m url \u001b[38;5;241m=\u001b[39m \u001b[38;5;124m'\u001b[39m\u001b[38;5;124mhttps://fantasy.premierleague.com/api/bootstrap-static/\u001b[39m\u001b[38;5;124m'\u001b[39m\n\u001b[1;32m----> 3\u001b[0m response \u001b[38;5;241m=\u001b[39m requests\u001b[38;5;241m.\u001b[39mget(url)\n\u001b[0;32m      4\u001b[0m fpl_data \u001b[38;5;241m=\u001b[39m response\u001b[38;5;241m.\u001b[39mjson()\n",
      "\u001b[1;31mNameError\u001b[0m: name 'requests' is not defined"
     ]
    }
   ],
   "source": [
    "# Fetch FPL data\n",
    "import requests\n",
    "url = 'https://fantasy.premierleague.com/api/bootstrap-static/'\n",
    "response = requests.get(url)\n",
    "fpl_data = response.json()"
   ]
  },
  {
   "cell_type": "code",
   "execution_count": null,
   "id": "7dbb57d7-bc08-4226-8d6d-ea2d898b38c4",
   "metadata": {},
   "outputs": [],
   "source": [
    "# Convert player data to DataFrame\n",
    "players = fpl_data['elements']\n",
    "fpl_df = pd.DataFrame(players)\n",
    "kaggle_df = pd.read_csv(r'C:\\Users\\Rufeeh\\OneDrive\\Desktop\\Africa-Data-School-Curriculum\\players.csv')\n"
   ]
  },
  {
   "cell_type": "code",
   "execution_count": null,
   "id": "1238efaa-a9c0-4e6c-806b-ec926ebe7185",
   "metadata": {},
   "outputs": [],
   "source": [
    "# Check for missing values in both datasets\n",
    "print(fpl_df.isnull().sum())\n",
    "print(kaggle_df.isnull().sum())\n"
   ]
  },
  {
   "cell_type": "code",
   "execution_count": null,
   "id": "510dce3e-47de-4dfc-b752-3086d4325257",
   "metadata": {},
   "outputs": [],
   "source": []
  },
  {
   "cell_type": "code",
   "execution_count": null,
   "id": "342ad043-76ed-433e-a843-5a4a56bbb54d",
   "metadata": {},
   "outputs": [],
   "source": []
  },
  {
   "cell_type": "code",
   "execution_count": null,
   "id": "7b6bbc9f-749e-47b1-a7f9-0a2461f655b7",
   "metadata": {},
   "outputs": [],
   "source": []
  }
 ],
 "metadata": {
  "kernelspec": {
   "display_name": "Python 3 (ipykernel)",
   "language": "python",
   "name": "python3"
  },
  "language_info": {
   "codemirror_mode": {
    "name": "ipython",
    "version": 3
   },
   "file_extension": ".py",
   "mimetype": "text/x-python",
   "name": "python",
   "nbconvert_exporter": "python",
   "pygments_lexer": "ipython3",
   "version": "3.12.4"
  }
 },
 "nbformat": 4,
 "nbformat_minor": 5
}
